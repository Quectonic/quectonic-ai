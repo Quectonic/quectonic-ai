{
  "nbformat": 4,
  "nbformat_minor": 0,
  "metadata": {
    "colab": {
      "provenance": []
    },
    "kernelspec": {
      "name": "python3",
      "display_name": "Python 3"
    },
    "language_info": {
      "name": "python"
    }
  },
  "cells": [
    {
      "cell_type": "code",
      "execution_count": null,
      "metadata": {
        "id": "uTUTaB0mgvhC"
      },
      "outputs": [],
      "source": [
        "from vertexai.preview import rag\n",
        "from vertexai.preview.generative_models import GenerativeModel, Tool\n",
        "import vertexai"
      ]
    },
    {
      "cell_type": "code",
      "source": [
        "project_id = \"quectonic\"\n",
        "display_name = \"sample 1\"\n",
        "paths = [\"gs://hl-txt\"]"
      ],
      "metadata": {
        "id": "pWI88Twag6kb"
      },
      "execution_count": null,
      "outputs": []
    },
    {
      "cell_type": "code",
      "source": [
        "import sys\n",
        "\n",
        "# Additional authentication is required for Google Colab\n",
        "if \"google.colab\" in sys.modules:\n",
        "    # Authenticate user to Google Cloud\n",
        "    from google.colab import auth\n",
        "\n",
        "    auth.authenticate_user()"
      ],
      "metadata": {
        "id": "wV4TBzdchPHD"
      },
      "execution_count": null,
      "outputs": []
    },
    {
      "cell_type": "code",
      "source": [
        "vertexai.init(project=project_id, location=\"us-central1\")"
      ],
      "metadata": {
        "id": "-ur1SBclhfoI"
      },
      "execution_count": null,
      "outputs": []
    },
    {
      "cell_type": "code",
      "source": [
        "rag_corpus = rag.create_corpus(display_name=display_name)"
      ],
      "metadata": {
        "id": "GvYWsiWuhoC4"
      },
      "execution_count": null,
      "outputs": []
    },
    {
      "cell_type": "code",
      "source": [
        "response = rag.import_files(\n",
        "    rag_corpus.name,\n",
        "    paths,\n",
        "    chunk_size=128,\n",
        "    chunk_overlap=32,\n",
        ")"
      ],
      "metadata": {
        "id": "mKSaOE_Kht-D"
      },
      "execution_count": null,
      "outputs": []
    },
    {
      "cell_type": "code",
      "source": [
        "response = rag.retrieval_query(\n",
        "    rag_resources=[\n",
        "        rag.RagResource(\n",
        "            rag_corpus=rag_corpus.name\n",
        "        )\n",
        "    ],\n",
        "    text=\"Chlamydia\",\n",
        "    similarity_top_k=3,  # Optional\n",
        "    vector_distance_threshold=0.5,  # Optional\n",
        ")"
      ],
      "metadata": {
        "id": "nim2A3KqiGbT"
      },
      "execution_count": null,
      "outputs": []
    },
    {
      "cell_type": "code",
      "source": [
        "print(response)"
      ],
      "metadata": {
        "colab": {
          "base_uri": "https://localhost:8080/"
        },
        "id": "uHlcZmNtjJIF",
        "outputId": "4b66abac-df6a-4f94-ad3c-17368e00b9c7"
      },
      "execution_count": null,
      "outputs": [
        {
          "output_type": "stream",
          "name": "stdout",
          "text": [
            "contexts {\n",
            "  contexts {\n",
            "    source_uri: \"gs://hl-txt/abdominal-pain-and-painful-urination_utm_source_ReadNext_c002c959-eb87-4c72-b967-335200e96509.txt\"\n",
            "    text: \"People who have chlamydia often do not have outward symptoms in the early stages. Genital herpes Genital herpes is a sexually transmitted disease (STD). This STD causes herpetic sores, which are painful blisters (fluid-filled bumps) that can break open and ooze fluid.\"\n",
            "    distance: 0.36795848483094096\n",
            "  }\n",
            "  contexts {\n",
            "    source_uri: \"gs://hl-txt/abdominal-pain-and-painful-urination_utm_source_ReadNext_c002c959-eb87-4c72-b967-335200e96509.txt\"\n",
            "    text: \"Prostatitis Prostatitis is inflammation of your prostate gland. The inflammation may spread to the area around your prostate. Chlamydia infection Chlamydia is a common sexually transmitted infection (STI) caused by bacteria. People who have chlamydia often do not have outward symptoms in the early stages.\"\n",
            "    distance: 0.38634342410892786\n",
            "  }\n",
            "  contexts {\n",
            "    source_uri: \"gs://hl-txt/abdominal-pain-and-painful-urination_28d741ab-a2c7-4bbc-9cb7-cfeb6072b94f.txt\"\n",
            "    text: \"People who have chlamydia often do not have outward symptoms in the early stages. Genital herpes Genital herpes is a sexually transmitted disease (STD). This STD causes herpetic sores, which are painful blisters (fluid-filled bumps) that can break open and ooze fluid.\"\n",
            "    distance: 0.36795848483094096\n",
            "  }\n",
            "}\n",
            "\n"
          ]
        }
      ]
    },
    {
      "cell_type": "code",
      "source": [
        "rag_retrieval_tool = Tool.from_retrieval(\n",
        "    retrieval=rag.Retrieval(\n",
        "        source=rag.VertexRagStore(\n",
        "            rag_resources=[\n",
        "                rag.RagResource(\n",
        "                    rag_corpus=rag_corpus.name\n",
        "                )\n",
        "            ],\n",
        "            similarity_top_k=3,\n",
        "            vector_distance_threshold=0.5,\n",
        "        )\n",
        "    )\n",
        ")"
      ],
      "metadata": {
        "id": "6J4rK793jaaR"
      },
      "execution_count": null,
      "outputs": []
    },
    {
      "cell_type": "code",
      "source": [
        "system_instruction = [\n",
        "    \"You are a clinical educator that provides a patient with health related information based on their health data and incoming concern queries.\",\n",
        "    \"You will also suggest the severity of the disease based on the conclusion you provide to the patient and recommend the appropriate next steps and when to seek official medical attention.\",\n",
        "    \"You want to avoid recommending the patient to visit a medical facility unless it is necessary.\",\n",
        "    \"\"\"You want to analyze with the following workflow:\n",
        "      ### Input\n",
        "      [Patient's concerns with symptoms]\n",
        "\n",
        "      ### Thought Process\n",
        "      [Based on patient's symptoms, look for direct cause of the symptoms. Repeat this steps until a diagnosis is reached]\n",
        "\n",
        "      ### Action\n",
        "      [Provide simple explanation of the medical concerns patient inquired, the overall severity and next step approaches]\n",
        "    \"\"\",\n",
        "    \"\"\"You want to answer with the following format:\n",
        "      Based on the information provided, {simple explanation of patient's medical concerns}\n",
        "      Severity: {overall severity}\n",
        "      Next Steps: {next steps}\n",
        "    \"\"\"\n",
        "    ]\n",
        "\n",
        "\n",
        "model = GenerativeModel(\n",
        "    model_name=\"gemini-1.0-pro-002\", tools=[rag_retrieval_tool], system_instruction=system_instruction,\n",
        ")\n",
        "\n",
        "dumb_model = GenerativeModel(\n",
        "    model_name=\"gemini-1.0-pro-002\", tools=[], system_instruction=system_instruction,\n",
        ")\n",
        "\n",
        "critical_param_message = \"Heart Rate Fluctuation based on chronic tracking does not show abnormal fluctuations. 8 hours sleep was accomplished daily. Last Blood Test (2 days ago) showed positive for chlamydia and negative for other STIs. No significant weight loss.\""
      ],
      "metadata": {
        "id": "zY-N3dzBjLyW"
      },
      "execution_count": null,
      "outputs": []
    },
    {
      "cell_type": "code",
      "source": [
        "# Retrieval || Additional Parameters\n",
        "response = model.generate_content(f\"I have been throwing up and my period stopped. My titties also look swollened! {critical_param_message} What happened to me? Give me a detailed and step by step answer.\")\n",
        "print(response.text)"
      ],
      "metadata": {
        "colab": {
          "base_uri": "https://localhost:8080/"
        },
        "id": "ovBdHFrnkLOB",
        "outputId": "5d3f3341-c99e-4b91-e9e8-a980735bd33b"
      },
      "execution_count": null,
      "outputs": [
        {
          "output_type": "stream",
          "name": "stdout",
          "text": [
            "Based on the information provided, it is possible that you are experiencing symptoms of pelvic inflammatory disease (PID). PID is a serious infection of the female reproductive organs that can occur when bacteria from the vagina or cervix spread to the uterus, fallopian tubes, and ovaries. PID can cause a variety of symptoms, including abdominal pain, fever, vaginal discharge, and irregular bleeding.\n",
            "\n",
            "Severity: PID is a serious condition that can lead to long-term health problems if it is not treated promptly. The symptoms you are experiencing are consistent with PID, and it is important to see a doctor as soon as possible to get a diagnosis and treatment.\n",
            "\n",
            "Next Steps: If you think you might have PID, see a doctor as soon as possible. Your doctor will be able to do a pelvic exam and take a swab to check for the bacteria that cause PID. They may also order other tests, such as an ultrasound or blood tests, to rule out other possible causes of your symptoms. Treatment for PID usually involves antibiotics. Your doctor will choose the best antibiotic for you based on the type of bacteria that is causing your infection. If you are pregnant, it is important to let your doctor know so that they can prescribe antibiotics that are safe for you and your baby.\n",
            "\n",
            "**Remember:** PID is a serious condition that can lead to long-term health problems if it is not treated promptly. It is important to see a doctor as soon as possible if you think you might have PID.\n",
            "\n",
            "**Disclaimer:** The information provided in this chat is intended for general knowledge and informational purposes only, and does not constitute medical advice. It is essential to consult with a qualified healthcare professional for any health concerns or before making any decisions related to your health or treatment.\n"
          ]
        }
      ]
    },
    {
      "cell_type": "code",
      "source": [
        "# No Retrieval || No Additional Parameters\n",
        "response = dumb_model.generate_content(\"I have been throwing up and my period stopped. My titties also look swollened! What happened to me? Give me a detailed and step by step answer.\")\n",
        "print(response.text)"
      ],
      "metadata": {
        "colab": {
          "base_uri": "https://localhost:8080/"
        },
        "id": "_otjzlL7kXk5",
        "outputId": "4dc94c0b-85f2-49d3-ae7c-f8dbca4ed905"
      },
      "execution_count": null,
      "outputs": [
        {
          "output_type": "stream",
          "name": "stdout",
          "text": [
            "Based on the information provided, you might be pregnant. \n",
            "\n",
            "**Severity:** Moderate\n",
            "\n",
            "**Next Steps:**\n",
            "\n",
            "1. **Take a home pregnancy test.** This is the first step to confirm if you are pregnant. Home pregnancy tests are readily available at most drugstores and grocery stores.\n",
            "2. **If the home pregnancy test is positive, schedule an appointment with your doctor or healthcare provider.** They will be able to confirm the pregnancy and discuss your options.\n",
            "3. **If the home pregnancy test is negative, you may want to consider other possible causes of your symptoms, such as a stomach virus or food poisoning.** You can also talk to your doctor or healthcare provider about your symptoms.\n",
            "\n",
            "**Additional Information:**\n",
            "\n",
            "* **Morning sickness** is a common symptom of early pregnancy. It can cause nausea, vomiting, and food aversions.\n",
            "* **Breast tenderness** is another common symptom of early pregnancy. Your breasts may feel swollen, sore, or tingly.\n",
            "* **A missed period** is the most common sign of pregnancy. If you have missed a period, it is important to take a pregnancy test.\n",
            "\n",
            "**When to Seek Medical Attention:**\n",
            "\n",
            "* If you are experiencing severe nausea or vomiting that is preventing you from keeping down any food or liquids.\n",
            "* If you have abdominal pain that is severe or does not go away.\n",
            "* If you have vaginal bleeding that is heavier than your normal menstrual flow.\n",
            "* If you have a fever of 100.4°F or higher.\n",
            "* If you have any other symptoms that concern you.\n",
            "\n",
            "**Disclaimer:** I am not a medical professional and this information should not be taken as medical advice. Please consult with your doctor or healthcare provider for any health concerns or before making any decisions related to your health or treatment.\n"
          ]
        }
      ]
    },
    {
      "cell_type": "code",
      "source": [
        "# No Retrieval || Additional Parameters\n",
        "response = dumb_model.generate_content(f\"I have been throwing up and my period stopped. My titties also look swollened! {critical_param_message} What happened to me? Give me a detailed and step by step answer.\")\n",
        "print(response.text)"
      ],
      "metadata": {
        "colab": {
          "base_uri": "https://localhost:8080/"
        },
        "id": "h5WTLjwPnT2a",
        "outputId": "2819636a-352e-4ed3-d16f-183e8586bbf8"
      },
      "execution_count": null,
      "outputs": [
        {
          "output_type": "stream",
          "name": "stdout",
          "text": [
            "## Based on the information provided, you may be experiencing the following:\n",
            "\n",
            "**1. Pregnancy:** Nausea and vomiting are common symptoms of early pregnancy. Additionally, breast swelling and tenderness are also common early pregnancy symptoms. A missed period can be another sign of pregnancy. \n",
            "\n",
            "**2. Ectopic Pregnancy:** This is a serious condition that occurs when a fertilized egg implants outside of the uterus, usually in the fallopian tube. Ectopic pregnancies can cause severe pain, vaginal bleeding, and other symptoms.\n",
            "\n",
            "**3. Pelvic Inflammatory Disease (PID):** This is an infection of the female reproductive organs that can be caused by chlamydia. PID can cause pain in the lower abdomen, fever, and abnormal vaginal discharge.\n",
            "\n",
            "**4. Other medical conditions:** There are a number of other medical conditions that can cause nausea, vomiting, breast swelling, and missed periods. These include:\n",
            "\n",
            "* **Gastroenteritis:** This is an inflammation of the stomach and intestines that can be caused by a virus, bacteria, or parasite.\n",
            "* **Appendicitis:** This is an inflammation of the appendix, a small pouch attached to the large intestine.\n",
            "* **Ovarian cysts:** These are fluid-filled sacs that can develop on the ovaries.\n",
            "* **Stress:** Stress can cause a variety of physical symptoms, including nausea, vomiting, and missed periods.\n",
            "\n",
            "## Severity:\n",
            "\n",
            "The severity of your symptoms will depend on the underlying cause. \n",
            "\n",
            "* **Pregnancy:** If you are pregnant, the symptoms you are experiencing are likely normal and not a cause for concern. However, it is important to see a doctor to confirm the pregnancy and to receive prenatal care.\n",
            "* **Ectopic Pregnancy:** Ectopic pregnancies are a medical emergency and require immediate treatment. If you are experiencing severe pain in your lower abdomen, vaginal bleeding, or dizziness, you should seek medical attention immediately.\n",
            "* **Pelvic Inflammatory Disease (PID):** PID is a serious condition that can lead to infertility and other complications if left untreated. If you are experiencing pain in your lower abdomen, fever, or abnormal vaginal discharge, you should see a doctor as soon as possible.\n",
            "* **Other medical conditions:** The severity of other medical conditions will vary depending on the specific condition. \n",
            "\n",
            "## Next Steps:\n",
            "\n",
            "* **Take a home pregnancy test.** This will help to rule out pregnancy as a cause of your symptoms.\n",
            "* **See a doctor.** It is important to see a doctor to get a diagnosis and discuss treatment options. Your doctor will likely perform a pelvic exam, order blood tests, and may perform an ultrasound.\n",
            "* **Follow your doctor's instructions.** Depending on the diagnosis, your doctor may recommend medication, surgery, or other treatments.\n",
            "\n",
            "## When to Seek Official Medical Attention:\n",
            "\n",
            "* If you are experiencing severe pain in your lower abdomen.\n",
            "* If you have vaginal bleeding that is heavier than usual or that lasts longer than 7 days.\n",
            "* If you have a fever of 100.4°F (38°C) or higher.\n",
            "* If you are feeling dizzy or lightheaded.\n",
            "* If you are vomiting blood or have black, tarry stools.\n",
            "* If you have any other concerning symptoms.\n",
            "\n",
            "## Additional Information:\n",
            "\n",
            "* Chlamydia is a sexually transmitted infection (STI) that can be treated with antibiotics. It is important to get treatment for chlamydia to prevent complications.\n",
            "* If you are pregnant, it is important to avoid alcohol and smoking. You should also eat a healthy diet and get regular exercise.\n",
            "* If you are experiencing stress, there are a number of things you can do to manage it, such as exercise, relaxation techniques, and talking to a therapist.\n",
            "\n",
            "## Disclaimer:\n",
            "\n",
            "The information provided in this chat is intended for general knowledge and informational purposes only, and does not constitute medical advice. It is essential to consult with a qualified healthcare professional for any health concerns or before making any decisions related to your health or treatment.\n"
          ]
        }
      ]
    },
    {
      "cell_type": "code",
      "source": [
        "# Retrieval || No Additional Parameters\n",
        "response = model.generate_content(\"I have been throwing up and my period stopped. My titties also look swollened! What happened to me? Give me a detailed and step by step answer.\")\n",
        "print(response.text)"
      ],
      "metadata": {
        "colab": {
          "base_uri": "https://localhost:8080/"
        },
        "id": "ORnFUIMIoNLD",
        "outputId": "2bcb332b-52a5-4805-f4ce-94a7f9b2b52c"
      },
      "execution_count": null,
      "outputs": [
        {
          "output_type": "stream",
          "name": "stdout",
          "text": [
            "Based on your symptoms, it is possible that you are pregnant. Pregnancy can cause a variety of symptoms, including nausea, vomiting, breast tenderness, and changes in your menstrual cycle. If you are concerned that you may be pregnant, it is important to see a doctor to get a definitive diagnosis.\n",
            "\n",
            "However, it is also important to note that there are other possible explanations for your symptoms. For example, you could have a stomach virus, food poisoning, or another medical condition. If your symptoms are severe or you are concerned about them, it is always best to see a doctor to get a diagnosis and treatment plan.\n",
            "\n",
            "Here are some next steps you can take:\n",
            "\n",
            "1. Take a home pregnancy test. This is the quickest and easiest way to find out if you are pregnant.\n",
            "2. See a doctor. If you are pregnant or think you might be pregnant, it is important to see a doctor to get prenatal care.\n",
            "3. Rule out other possible causes of your symptoms. If you are not pregnant, there are other possible explanations for your symptoms. Your doctor can help you rule these out and get the treatment you need.\n",
            "\n",
            "Overall, it is important to see a doctor if you are concerned about your symptoms. They can help you determine the cause of your symptoms and get the treatment you need.\n",
            "\n",
            "I hope this helps! Let me know if you have any other questions.\n"
          ]
        }
      ]
    },
    {
      "cell_type": "code",
      "source": [],
      "metadata": {
        "id": "w4dSf0P8oXuG"
      },
      "execution_count": null,
      "outputs": []
    }
  ]
}